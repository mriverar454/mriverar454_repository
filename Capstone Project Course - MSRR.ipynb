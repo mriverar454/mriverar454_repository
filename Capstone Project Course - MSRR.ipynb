{
    "cells": [
        {
            "metadata": {
                "collapsed": true
            },
            "cell_type": "markdown",
            "source": "## Instructions: \n\n### 1. Write some markdown to explain that this notebook will be mainly used for the capstone project.\n### 2. Import the pandas library as pd.\n### 3. Import the Numpy library as np.\n### 4. Print the following the statement: Hello Capstone Project Course!\n"
        },
        {
            "metadata": {},
            "cell_type": "markdown",
            "source": "(1.) \n\nThis notebook will be used to confirm the Github functionality of the Capstone Project."
        },
        {
            "metadata": {},
            "cell_type": "code",
            "source": "(2.) \nimport pandas as pd\nprint(\"pandas Downloaded\")",
            "execution_count": 5,
            "outputs": [
                {
                    "output_type": "stream",
                    "text": "pandas Downloaded\n",
                    "name": "stdout"
                }
            ]
        },
        {
            "metadata": {},
            "cell_type": "code",
            "source": "(3)\nimport numpy as np\nprint(\"numpy Downloaded\")",
            "execution_count": 6,
            "outputs": [
                {
                    "output_type": "stream",
                    "text": "numpy Downloaded\n",
                    "name": "stdout"
                }
            ]
        },
        {
            "metadata": {},
            "cell_type": "code",
            "source": "(4.)\nprint(\"Hello Capstone Project Course!\")",
            "execution_count": 7,
            "outputs": [
                {
                    "output_type": "stream",
                    "text": "Hello Capstone Project Course!\n",
                    "name": "stdout"
                }
            ]
        }
    ],
    "metadata": {
        "kernelspec": {
            "name": "python3",
            "display_name": "Python 3.7",
            "language": "python"
        },
        "language_info": {
            "name": "python",
            "version": "3.7.10",
            "mimetype": "text/x-python",
            "codemirror_mode": {
                "name": "ipython",
                "version": 3
            },
            "pygments_lexer": "ipython3",
            "nbconvert_exporter": "python",
            "file_extension": ".py"
        }
    },
    "nbformat": 4,
    "nbformat_minor": 1
}